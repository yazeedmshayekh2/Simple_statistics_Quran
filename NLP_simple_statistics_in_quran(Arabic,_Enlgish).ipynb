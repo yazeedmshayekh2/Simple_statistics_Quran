{
  "nbformat": 4,
  "nbformat_minor": 0,
  "metadata": {
    "colab": {
      "provenance": []
    },
    "kernelspec": {
      "name": "python3",
      "display_name": "Python 3"
    },
    "language_info": {
      "name": "python"
    }
  },
  "cells": [
    {
      "cell_type": "code",
      "source": [
        "import nltk\n",
        "import re\n",
        "from nltk import FreqDist\n",
        "from nltk import ngrams\n",
        "import nltk\n",
        "nltk.download('punkt')"
      ],
      "metadata": {
        "colab": {
          "base_uri": "https://localhost:8080/"
        },
        "id": "2mH-Lvlfm6k_",
        "outputId": "2fdd9e82-acba-41ed-9914-bdcaf76b9a20"
      },
      "execution_count": 31,
      "outputs": [
        {
          "output_type": "stream",
          "name": "stderr",
          "text": [
            "[nltk_data] Downloading package punkt to /root/nltk_data...\n",
            "[nltk_data]   Package punkt is already up-to-date!\n"
          ]
        },
        {
          "output_type": "execute_result",
          "data": {
            "text/plain": [
              "True"
            ]
          },
          "metadata": {},
          "execution_count": 31
        }
      ]
    },
    {
      "cell_type": "code",
      "source": [
        "# Load the two different small corpora (Quran text in Arabic and Quran translation in English)\n",
        "arabic_text = open(\"quran-simple.txt\", \"r\", encoding='utf-8').read()\n",
        "english_text = open(\"en.pickthall.txt\", \"r\", encoding='utf-8').read()"
      ],
      "metadata": {
        "id": "2XGfAfCRyJYi"
      },
      "execution_count": 32,
      "outputs": []
    },
    {
      "cell_type": "code",
      "source": [
        "# Tokenize the text\n",
        "arabic_tokens = nltk.word_tokenize(arabic_text)\n",
        "english_tokens = nltk.word_tokenize(english_text)"
      ],
      "metadata": {
        "id": "v2CGa80Lx-at"
      },
      "execution_count": 33,
      "outputs": []
    },
    {
      "cell_type": "code",
      "source": [
        "# Construct unigrams, bigrams, and trigrams\n",
        "arabic_unigrams = ngrams(arabic_tokens, 1)\n",
        "arabic_bigrams = ngrams(arabic_tokens, 2)\n",
        "arabic_trigrams = ngrams(arabic_tokens, 3)\n",
        "\n",
        "english_unigrams = ngrams(english_tokens, 1)\n",
        "english_bigrams = ngrams(english_tokens, 2)\n",
        "english_trigrams = ngrams(english_tokens, 3)"
      ],
      "metadata": {
        "id": "YmlIWMc8x_Xz"
      },
      "execution_count": 34,
      "outputs": []
    },
    {
      "cell_type": "code",
      "source": [
        "# Compute the frequency for each unigram, bigram, and trigram in each corpus\n",
        "arabic_unigram_freq = FreqDist(arabic_unigrams)\n",
        "arabic_bigram_freq = FreqDist(arabic_bigrams)\n",
        "arabic_trigram_freq = FreqDist(arabic_trigrams)\n",
        "\n",
        "english_unigram_freq = FreqDist(english_unigrams)\n",
        "english_bigram_freq = FreqDist(english_bigrams)\n",
        "english_trigram_freq = FreqDist(english_trigrams)"
      ],
      "metadata": {
        "id": "AXG0A8d_yByu"
      },
      "execution_count": 35,
      "outputs": []
    },
    {
      "cell_type": "code",
      "source": [
        "# Arrange the results by the most frequent to the least frequent grams\n",
        "most_common_arabic_unigrams = arabic_unigram_freq.most_common(20)\n",
        "most_common_arabic_bigrams = arabic_bigram_freq.most_common(20)\n",
        "most_common_arabic_trigrams = arabic_trigram_freq.most_common(20)\n",
        "\n",
        "most_common_english_unigrams = english_unigram_freq.most_common(20)\n",
        "most_common_english_bigrams = english_bigram_freq.most_common(20)\n",
        "most_common_english_trigrams = english_trigram_freq.most_common(20)"
      ],
      "metadata": {
        "id": "p9ooG4AUyCuL"
      },
      "execution_count": 36,
      "outputs": []
    },
    {
      "cell_type": "code",
      "source": [
        "# Print the most common unigrams, bigrams, and trigrams for each corpus\n",
        "print(\"Most common unigrams in Arabic:\")\n",
        "print(most_common_arabic_unigrams)\n",
        "print(\"\\nMost common bigrams in Arabic:\")\n",
        "print(most_common_arabic_bigrams)\n",
        "print(\"\\nMost common trigrams in Arabic:\")\n",
        "print(most_common_arabic_trigrams)\n",
        "\n",
        "print(\"\\nMost common unigrams in English:\")\n",
        "print(most_common_english_unigrams)\n",
        "print(\"\\nMost common bigrams in English:\")\n",
        "print(most_common_english_bigrams)\n",
        "print(\"\\nMost common trigrams in English:\")\n",
        "print(most_common_english_trigrams)"
      ],
      "metadata": {
        "colab": {
          "base_uri": "https://localhost:8080/"
        },
        "id": "1C6OnCgsyD0H",
        "outputId": "acc83f79-096a-4a15-f87b-c8c2cd320e95"
      },
      "execution_count": 37,
      "outputs": [
        {
          "output_type": "stream",
          "name": "stdout",
          "text": [
            "Most common unigrams in Arabic:\n",
            "[(('مِنْ',), 1673), (('فِي',), 1185), (('مَا',), 1010), (('اللَّهِ',), 940), (('لَا',), 812), (('الَّذِينَ',), 810), (('اللَّهُ',), 733), (('مِنَ',), 693), (('عَلَى',), 670), (('إِلَّا',), 662), (('وَلَا',), 658), (('وَمَا',), 646), (('إِنَّ',), 609), (('اللَّهَ',), 592), (('أَنْ',), 519), (('قَالَ',), 416), (('إِلَى',), 405), (('مَنْ',), 372), (('يَا',), 350), (('إِنْ',), 344)]\n",
            "\n",
            "Most common bigrams in Arabic:\n",
            "[(('إِنَّ', 'اللَّهَ'), 205), (('الَّذِينَ', 'آمَنُوا'), 184), (('فِي', 'الْأَرْضِ'), 176), (('يَا', 'أَيُّهَا'), 142), (('الَّذِينَ', 'كَفَرُوا'), 134), (('الرَّحْمَنِ', 'الرَّحِيمِ'), 116), (('بِسْمِ', 'اللَّهِ'), 115), (('اللَّهِ', 'الرَّحْمَنِ'), 114), (('السَّمَاوَاتِ', 'وَالْأَرْضِ'), 95), (('أَيُّهَا', 'الَّذِينَ'), 92), (('مِنَ', 'اللَّهِ'), 85), (('إِنَّ', 'الَّذِينَ'), 84), (('مِنْ', 'دُونِ'), 83), (('إِنْ', 'كُنْتُمْ'), 80), (('مِنْ', 'بَعْدِ'), 80), (('عَلَى', 'اللَّهِ'), 72), (('دُونِ', 'اللَّهِ'), 71), (('فِي', 'السَّمَاوَاتِ'), 71), (('كُلِّ', 'شَيْءٍ'), 69), (('مَا', 'فِي'), 69)]\n",
            "\n",
            "Most common trigrams in Arabic:\n",
            "[(('بِسْمِ', 'اللَّهِ', 'الرَّحْمَنِ'), 114), (('اللَّهِ', 'الرَّحْمَنِ', 'الرَّحِيمِ'), 114), (('يَا', 'أَيُّهَا', 'الَّذِينَ'), 92), (('أَيُّهَا', 'الَّذِينَ', 'آمَنُوا'), 89), (('مِنْ', 'دُونِ', 'اللَّهِ'), 71), (('عَلَى', 'كُلِّ', 'شَيْءٍ'), 52), (('آمَنُوا', 'وَعَمِلُوا', 'الصَّالِحَاتِ'), 50), (('إِنَّ', 'فِي', 'ذَلِكَ'), 50), (('فِي', 'سَبِيلِ', 'اللَّهِ'), 44), (('مَا', 'فِي', 'السَّمَاوَاتِ'), 39), (('لَا', 'إِلَهَ', 'إِلَّا'), 37), (('الَّذِينَ', 'آمَنُوا', 'وَعَمِلُوا'), 36), (('تَجْرِي', 'مِنْ', 'تَحْتِهَا'), 34), (('مِنْ', 'تَحْتِهَا', 'الْأَنْهَارُ'), 34), (('كُلِّ', 'شَيْءٍ', 'قَدِيرٌ'), 33), (('فَبِأَيِّ', 'آلَاءِ', 'رَبِّكُمَا'), 31), (('آلَاءِ', 'رَبِّكُمَا', 'تُكَذِّبَانِ'), 31), (('فِي', 'السَّمَاوَاتِ', 'وَالْأَرْضِ'), 30), (('إِلَهَ', 'إِلَّا', 'هُوَ'), 30), (('إِنَّ', 'اللَّهَ', 'لَا'), 29)]\n",
            "\n",
            "Most common unigrams in English:\n",
            "[((',',), 8213), (('.',), 7470), (('the',), 7379), (('and',), 5546), (('of',), 4838), (('is',), 3095), ((')',), 2974), (('(',), 2973), (('Allah',), 2914), (('they',), 2527), (('!',), 2439), (('that',), 2354), (('And',), 2325), (('them',), 2320), (('a',), 2189), (('in',), 2095), (('to',), 2065), (('for',), 1896), ((':',), 1873), (('not',), 1839)]\n",
            "\n",
            "Most common bigrams in English:\n",
            "[((',', 'and'), 2178), (('.', 'And'), 1661), (('Lo', '!'), 1089), (('of', 'the'), 1075), (('those', 'who'), 778), (('.', 'Lo'), 739), (('in', 'the'), 689), (('and', 'the'), 594), (('said', ':'), 572), (('that', 'which'), 540), (('Allah', 'is'), 441), ((')', '.'), 438), (('will', 'be'), 420), (('of', 'Allah'), 413), (('.', 'He'), 408), (('is', 'the'), 382), (('the', 'earth'), 371), (('them', ','), 348), (('Allah', ','), 345), ((',', 'but'), 323)]\n",
            "\n",
            "Most common trigrams in English:\n",
            "[(('.', 'Lo', '!'), 736), (('Lo', '!', 'Allah'), 200), (('He', 'said', ':'), 190), (('O', 'Muhammad', ')'), 184), (('.', 'And', 'when'), 169), (('(', 'O', 'Muhammad'), 169), (('the', 'heavens', 'and'), 166), (('and', 'the', 'earth'), 148), (('.', 'Say', ':'), 146), (('.', 'He', 'said'), 144), ((':', 'Lo', '!'), 143), (('heavens', 'and', 'the'), 135), (('!', 'Allah', 'is'), 134), ((',', 'and', 'the'), 125), (('those', 'who', 'believe'), 122), (('in', 'the', 'earth'), 122), (('.', 'And', 'if'), 122), (('of', 'those', 'who'), 121), (('.', 'Allah', 'is'), 118), (('.', 'And', 'they'), 118)]\n"
          ]
        }
      ]
    },
    {
      "cell_type": "code",
      "source": [
        "# Compute the differences in the most common unigrams, bigrams, and trigrams between the two corpora\n",
        "diff_unigrams = list([most_common_arabic_unigrams[0:9], most_common_english_unigrams[0:9]])\n",
        "diff_bigrams = list([most_common_arabic_bigrams[0:9], most_common_english_bigrams[0:9]])\n",
        "diff_trigrams = list([most_common_arabic_trigrams[0:9], most_common_english_trigrams[0:9]])"
      ],
      "metadata": {
        "id": "EKEEfxgOyFGT"
      },
      "execution_count": 42,
      "outputs": []
    },
    {
      "cell_type": "code",
      "source": [
        "# Print the differences in the most common unigrams, bigrams, and trigrams between the two corpora\n",
        "print(\"\\nDifferences in most common unigrams between Arabic and English:\")\n",
        "print(diff_unigrams)\n",
        "print(\"\\nDifferences in most common bigrams between Arabic and English:\")\n",
        "print(diff_bigrams)\n",
        "print(\"\\nDifferences in most common trigrams between Arabic and English:\")\n",
        "print(diff_trigrams)\n",
        "\n",
        "print(\"\\nOverall frequency distribution for Arabic corpus:\")\n",
        "arabic_freq_dist = nltk.FreqDist(arabic_tokens)\n",
        "print(arabic_freq_dist.most_common(20))\n",
        "\n",
        "print(\"\\nOverall frequency distribution for English corpus:\")\n",
        "english_freq_dist = nltk.FreqDist(english_tokens)\n",
        "print(english_freq_dist.most_common(20))\n",
        "\n",
        "word_arabic = \"اللَّهِ\"\n",
        "word_english = \"Allah\"\n",
        "print(\"\\nFrequency distribution of '{}' in Arabic corpus:\".format(word_arabic))\n",
        "arabic_word_freq = arabic_freq_dist[word_arabic]\n",
        "print(arabic_word_freq)\n",
        "\n",
        "print(\"\\nFrequency distribution of '{}' in English corpus:\".format(word_english))\n",
        "english_word_freq = english_freq_dist[word_english]\n",
        "print(english_word_freq)"
      ],
      "metadata": {
        "colab": {
          "base_uri": "https://localhost:8080/"
        },
        "id": "LbM879V2yHbY",
        "outputId": "b73379a1-3e18-459f-eddd-9bf6eb7b0328"
      },
      "execution_count": 41,
      "outputs": [
        {
          "output_type": "stream",
          "name": "stdout",
          "text": [
            "\n",
            "Differences in most common unigrams between Arabic and English:\n",
            "[[(('مِنْ',), 1673), (('فِي',), 1185), (('مَا',), 1010), (('اللَّهِ',), 940), (('لَا',), 812), (('الَّذِينَ',), 810), (('اللَّهُ',), 733), (('مِنَ',), 693), (('عَلَى',), 670)], [(('the',), 7379), (('and',), 5546), (('of',), 4838), (('is',), 3095), ((')',), 2974), (('(',), 2973), (('Allah',), 2914), (('they',), 2527), (('!',), 2439)]]\n",
            "\n",
            "Differences in most common bigrams between Arabic and English:\n",
            "[[(('إِنَّ', 'اللَّهَ'), 205), (('الَّذِينَ', 'آمَنُوا'), 184), (('فِي', 'الْأَرْضِ'), 176), (('يَا', 'أَيُّهَا'), 142), (('الَّذِينَ', 'كَفَرُوا'), 134), (('الرَّحْمَنِ', 'الرَّحِيمِ'), 116), (('بِسْمِ', 'اللَّهِ'), 115), (('اللَّهِ', 'الرَّحْمَنِ'), 114), (('السَّمَاوَاتِ', 'وَالْأَرْضِ'), 95)], [((',', 'and'), 2178), (('.', 'And'), 1661), (('Lo', '!'), 1089), (('of', 'the'), 1075), (('those', 'who'), 778), (('.', 'Lo'), 739), (('in', 'the'), 689), (('and', 'the'), 594), (('said', ':'), 572)]]\n",
            "\n",
            "Differences in most common trigrams between Arabic and English:\n",
            "[[(('بِسْمِ', 'اللَّهِ', 'الرَّحْمَنِ'), 114), (('اللَّهِ', 'الرَّحْمَنِ', 'الرَّحِيمِ'), 114), (('يَا', 'أَيُّهَا', 'الَّذِينَ'), 92), (('أَيُّهَا', 'الَّذِينَ', 'آمَنُوا'), 89), (('مِنْ', 'دُونِ', 'اللَّهِ'), 71), (('عَلَى', 'كُلِّ', 'شَيْءٍ'), 52), (('آمَنُوا', 'وَعَمِلُوا', 'الصَّالِحَاتِ'), 50), (('إِنَّ', 'فِي', 'ذَلِكَ'), 50), (('فِي', 'سَبِيلِ', 'اللَّهِ'), 44)], [(('.', 'Lo', '!'), 736), (('Lo', '!', 'Allah'), 200), (('He', 'said', ':'), 190), (('O', 'Muhammad', ')'), 184), (('.', 'And', 'when'), 169), (('(', 'O', 'Muhammad'), 169), (('the', 'heavens', 'and'), 166), (('and', 'the', 'earth'), 148), (('.', 'Say', ':'), 146)]]\n",
            "\n",
            "Overall frequency distribution for Arabic corpus:\n",
            "[('مِنْ', 1673), ('فِي', 1185), ('مَا', 1010), ('اللَّهِ', 940), ('لَا', 812), ('الَّذِينَ', 810), ('اللَّهُ', 733), ('مِنَ', 693), ('عَلَى', 670), ('إِلَّا', 662), ('وَلَا', 658), ('وَمَا', 646), ('إِنَّ', 609), ('اللَّهَ', 592), ('أَنْ', 519), ('قَالَ', 416), ('إِلَى', 405), ('مَنْ', 372), ('يَا', 350), ('إِنْ', 344)]\n",
            "\n",
            "Overall frequency distribution for English corpus:\n",
            "[(',', 8213), ('.', 7470), ('the', 7379), ('and', 5546), ('of', 4838), ('is', 3095), (')', 2974), ('(', 2973), ('Allah', 2914), ('they', 2527), ('!', 2439), ('that', 2354), ('And', 2325), ('them', 2320), ('a', 2189), ('in', 2095), ('to', 2065), ('for', 1896), (':', 1873), ('not', 1839)]\n",
            "\n",
            "Frequency distribution of 'اللَّهِ' in Arabic corpus:\n",
            "940\n",
            "\n",
            "Frequency distribution of 'Allah' in English corpus:\n",
            "2914\n"
          ]
        }
      ]
    },
    {
      "cell_type": "code",
      "source": [],
      "metadata": {
        "id": "n3brwzJ5yW80"
      },
      "execution_count": null,
      "outputs": []
    }
  ]
}